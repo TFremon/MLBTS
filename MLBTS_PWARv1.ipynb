{
  "cells": [
    {
      "cell_type": "markdown",
      "metadata": {
        "id": "view-in-github",
        "colab_type": "text"
      },
      "source": [
        "<a href=\"https://colab.research.google.com/github/TFremon/MLBTS/blob/main/MLBTS_PWARv1.ipynb\" target=\"_parent\"><img src=\"https://colab.research.google.com/assets/colab-badge.svg\" alt=\"Open In Colab\"/></a>"
      ]
    },
    {
      "cell_type": "code",
      "execution_count": 79,
      "metadata": {
        "id": "qy4c_ma8DsBD"
      },
      "outputs": [],
      "source": [
        "#@title\n",
        "#Imports\n",
        "import math\n",
        "import numpy as np\n",
        "from plotly.subplots import make_subplots\n",
        "from scipy.optimize import minimize\n",
        "import plotly.io as pio\n",
        "pio.templates.default='plotly_dark'"
      ]
    },
    {
      "cell_type": "code",
      "execution_count": 80,
      "metadata": {
        "colab": {
          "base_uri": "https://localhost:8080/"
        },
        "collapsed": true,
        "id": "91DY1sRqEHXu",
        "outputId": "1f076fa3-8473-40ed-b82a-9a560a783a9f"
      },
      "outputs": [
        {
          "output_type": "stream",
          "name": "stdout",
          "text": [
            "--2022-07-31 14:32:48--  https://raw.githubusercontent.com/TFremon/MLBTS/main/Book1.csv\n",
            "Resolving raw.githubusercontent.com (raw.githubusercontent.com)... 185.199.108.133, 185.199.109.133, 185.199.110.133, ...\n",
            "Connecting to raw.githubusercontent.com (raw.githubusercontent.com)|185.199.108.133|:443... connected.\n",
            "HTTP request sent, awaiting response... 200 OK\n",
            "Length: 318 [text/plain]\n",
            "Saving to: ‘Book1.csv.3’\n",
            "\n",
            "\rBook1.csv.3           0%[                    ]       0  --.-KB/s               \rBook1.csv.3         100%[===================>]     318  --.-KB/s    in 0s      \n",
            "\n",
            "2022-07-31 14:32:48 (18.7 MB/s) - ‘Book1.csv.3’ saved [318/318]\n",
            "\n"
          ]
        }
      ],
      "source": [
        "#@title\n",
        "# Data get\n",
        "!wget https://raw.githubusercontent.com/TFremon/MLBTS/main/Book1.csv\n"
      ]
    },
    {
      "cell_type": "code",
      "execution_count": 81,
      "metadata": {
        "id": "v5bnpPtsEl2x"
      },
      "outputs": [],
      "source": [
        "#@title\n",
        "# Get data, create array\n",
        "data = np.loadtxt('Book1.csv', delimiter=',')\n"
      ]
    },
    {
      "cell_type": "code",
      "execution_count": 82,
      "metadata": {
        "id": "1iF501Ofk_Jr",
        "colab": {
          "base_uri": "https://localhost:8080/"
        },
        "outputId": "de1076c2-4698-4fde-d3ef-fed9a7268913"
      },
      "outputs": [
        {
          "output_type": "execute_result",
          "data": {
            "text/plain": [
              "array([110.  , 115.67,  99.  , 110.2 , 100.  , 100.33, 106.33, 239.  ,\n",
              "       230.67, 220.33, 207.  , 210.67, 227.67, 200.33, 194.33, 191.67,\n",
              "       199.  , 206.1 , 215.  ])"
            ]
          },
          "metadata": {},
          "execution_count": 82
        }
      ],
      "source": [
        "#@title\n",
        "ip = data[:,0]\n",
        "fip = data[:,1]\n",
        "war = data[:,2]\n",
        "\n",
        "\n",
        "ip\n"
      ]
    },
    {
      "cell_type": "code",
      "execution_count": 83,
      "metadata": {
        "id": "f64guco7FDqs"
      },
      "outputs": [],
      "source": [
        "#@title\n",
        "#REMOVE###########################################\n",
        "#Test data generation\n",
        "#x error is polynomial\n",
        "#y error is linear\n",
        "#x = np.linspace(0, 12, 100)\n",
        "#y = np.linspace(12, 96, 100)\n",
        "#x_error = []\n",
        "#y_error = []\n",
        "#for i in range(len(x)):\n",
        "# x_error.append(-np.random.ranf()*x[i]**(np.random.ranf()*3))\n",
        "#for e in range(len(y)):\n",
        "#  y_error.append(0.1*-np.random.ranf()*y[e])\n",
        "#x_error = np.array(x_error)\n",
        "#y_error = np.array(y_error)\n",
        "\n",
        "#t_data = [x, y, x_error, y_error]\n",
        "\n"
      ]
    },
    {
      "cell_type": "code",
      "execution_count": 87,
      "metadata": {
        "id": "AjhkRiafT3Y3"
      },
      "outputs": [],
      "source": [
        "def sse_war(v):\n",
        "  ip_f, fip_f = v\n",
        "  war_er = 0\n",
        "  for i in range(len(ip)):\n",
        "    war_er = war_er + (((ip_f * ip[i]) + (fip_f * fip[i])) - war[i])\n",
        "  return war_er\n",
        "\n"
      ]
    },
    {
      "cell_type": "code",
      "execution_count": 85,
      "metadata": {
        "colab": {
          "base_uri": "https://localhost:8080/"
        },
        "id": "6s0Faay0RRxz",
        "outputId": "3252751b-8a0d-4a74-803b-2c5d02f95bbc"
      },
      "outputs": [
        {
          "output_type": "execute_result",
          "data": {
            "text/plain": [
              "(-209642947.4853001, -4161922.9775159587)"
            ]
          },
          "metadata": {},
          "execution_count": 85
        }
      ],
      "source": [
        "#@title\n",
        "ip_f, fip_f = minimize(sse_war,[1, 1]).x\n",
        "ip_f, fip_f"
      ]
    },
    {
      "cell_type": "code",
      "execution_count": 86,
      "metadata": {
        "id": "hEJaSjcEUgJp",
        "colab": {
          "base_uri": "https://localhost:8080/"
        },
        "outputId": "cbbf2b0e-9df6-4b02-9782-6ec3c677f0c7"
      },
      "outputs": [
        {
          "output_type": "execute_result",
          "data": {
            "text/plain": [
              "-41941491458.29032"
            ]
          },
          "metadata": {},
          "execution_count": 86
        }
      ],
      "source": [
        "#@title\n",
        "#error prediction using parameters\n",
        "def war_predict(vals):\n",
        "  ip_i, fip_i = vals\n",
        "\n",
        "  return(ip_f * ip_i + fip_f * fip_i)\n",
        "\n",
        "war_predict([200, 3.1])\n",
        "\n"
      ]
    },
    {
      "cell_type": "code",
      "execution_count": 86,
      "metadata": {
        "id": "cvss4bfukwLG"
      },
      "outputs": [],
      "source": [
        "\n",
        "\n",
        "\n",
        "  \n"
      ]
    }
  ],
  "metadata": {
    "colab": {
      "collapsed_sections": [],
      "name": "MLBTS_PWAR.ipynb",
      "provenance": [],
      "include_colab_link": true
    },
    "kernelspec": {
      "display_name": "Python 3",
      "name": "python3"
    },
    "language_info": {
      "name": "python"
    }
  },
  "nbformat": 4,
  "nbformat_minor": 0
}