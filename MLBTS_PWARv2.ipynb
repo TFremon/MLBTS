{
  "cells": [
    {
      "cell_type": "markdown",
      "metadata": {
        "id": "view-in-github",
        "colab_type": "text"
      },
      "source": [
        "<a href=\"https://colab.research.google.com/github/TFremon/MLBTS/blob/main/MLBTS_PWARv2.ipynb\" target=\"_parent\"><img src=\"https://colab.research.google.com/assets/colab-badge.svg\" alt=\"Open In Colab\"/></a>"
      ]
    },
    {
      "cell_type": "code",
      "execution_count": 17,
      "metadata": {
        "id": "qy4c_ma8DsBD"
      },
      "outputs": [],
      "source": [
        "#@title\n",
        "#Imports\n",
        "import math\n",
        "import numpy as np\n",
        "from plotly.subplots import make_subplots\n",
        "from scipy.optimize import minimize\n",
        "import plotly.io as pio\n",
        "pio.templates.default='plotly_dark'"
      ]
    },
    {
      "cell_type": "code",
      "execution_count": 18,
      "metadata": {
        "colab": {
          "base_uri": "https://localhost:8080/"
        },
        "collapsed": true,
        "id": "91DY1sRqEHXu",
        "outputId": "bd6851b7-1878-4832-a00e-08f3351f2a4f"
      },
      "outputs": [
        {
          "output_type": "stream",
          "name": "stdout",
          "text": [
            "--2022-08-01 02:30:40--  https://raw.githubusercontent.com/TFremon/MLBTS/main/Book1.csv\n",
            "Resolving raw.githubusercontent.com (raw.githubusercontent.com)... 185.199.111.133, 185.199.110.133, 185.199.109.133, ...\n",
            "Connecting to raw.githubusercontent.com (raw.githubusercontent.com)|185.199.111.133|:443... connected.\n",
            "HTTP request sent, awaiting response... 200 OK\n",
            "Length: 318 [text/plain]\n",
            "Saving to: ‘Book1.csv.1’\n",
            "\n",
            "\rBook1.csv.1           0%[                    ]       0  --.-KB/s               \rBook1.csv.1         100%[===================>]     318  --.-KB/s    in 0s      \n",
            "\n",
            "2022-08-01 02:30:40 (24.0 MB/s) - ‘Book1.csv.1’ saved [318/318]\n",
            "\n"
          ]
        }
      ],
      "source": [
        "#@title\n",
        "# Data get\n",
        "!wget https://raw.githubusercontent.com/TFremon/MLBTS/main/Book1.csv\n"
      ]
    },
    {
      "cell_type": "code",
      "execution_count": 19,
      "metadata": {
        "id": "v5bnpPtsEl2x"
      },
      "outputs": [],
      "source": [
        "#@title\n",
        "# Get data, create array\n",
        "data = np.loadtxt('Book1.csv', delimiter=',')\n"
      ]
    },
    {
      "cell_type": "code",
      "execution_count": 20,
      "metadata": {
        "id": "1iF501Ofk_Jr",
        "colab": {
          "base_uri": "https://localhost:8080/"
        },
        "outputId": "ffc17bea-1cb6-43d0-b26f-9badeb237f5f"
      },
      "outputs": [
        {
          "output_type": "execute_result",
          "data": {
            "text/plain": [
              "array([110.  , 115.67,  99.  , 110.2 , 100.  , 100.33, 106.33, 239.  ,\n",
              "       230.67, 220.33, 207.  , 210.67, 227.67, 200.33, 194.33, 191.67,\n",
              "       199.  , 206.1 , 215.  ])"
            ]
          },
          "metadata": {},
          "execution_count": 20
        }
      ],
      "source": [
        "#@title\n",
        "ip = data[:,0]\n",
        "fip = data[:,1]\n",
        "war = data[:,2]\n",
        "\n",
        "\n",
        "ip\n"
      ]
    },
    {
      "cell_type": "code",
      "execution_count": 21,
      "metadata": {
        "id": "AjhkRiafT3Y3"
      },
      "outputs": [],
      "source": [
        "def sse_war(v):\n",
        "  fact = v\n",
        "  war_er = 0\n",
        "  for i in range(len(ip)):\n",
        "    war_er = war_er + ((ip[i] / fip[i]) * fact - war[i])**2\n",
        "  return war_er\n",
        "\n"
      ]
    },
    {
      "cell_type": "code",
      "execution_count": 22,
      "metadata": {
        "colab": {
          "base_uri": "https://localhost:8080/"
        },
        "id": "6s0Faay0RRxz",
        "outputId": "89974290-9b7b-4757-b5ab-3c2893589d7a"
      },
      "outputs": [
        {
          "output_type": "execute_result",
          "data": {
            "text/plain": [
              "array([0.06718615])"
            ]
          },
          "metadata": {},
          "execution_count": 22
        }
      ],
      "source": [
        "#@title\n",
        "factor = minimize(sse_war,[1]).x\n",
        "factor"
      ]
    },
    {
      "cell_type": "code",
      "execution_count": 24,
      "metadata": {
        "id": "hEJaSjcEUgJp",
        "colab": {
          "base_uri": "https://localhost:8080/"
        },
        "outputId": "87dc6c98-49d7-4d24-8a6d-223f53a87301"
      },
      "outputs": [
        {
          "output_type": "execute_result",
          "data": {
            "text/plain": [
              "array([10.99409692])"
            ]
          },
          "metadata": {},
          "execution_count": 24
        }
      ],
      "source": [
        "#@title\n",
        "#error prediction using parameters\n",
        "def war_predict(vals):\n",
        "  ip_i, fip_i = vals\n",
        "\n",
        "  return (ip_i / fip_i) * factor\n",
        "\n",
        "war_predict([180, 1.1])\n",
        "\n"
      ]
    },
    {
      "cell_type": "code",
      "execution_count": 23,
      "metadata": {
        "id": "cvss4bfukwLG"
      },
      "outputs": [],
      "source": [
        "\n",
        "\n",
        "\n",
        "  \n"
      ]
    }
  ],
  "metadata": {
    "colab": {
      "collapsed_sections": [],
      "name": "MLBTS_PWAR.ipynb",
      "provenance": [],
      "include_colab_link": true
    },
    "kernelspec": {
      "display_name": "Python 3",
      "name": "python3"
    },
    "language_info": {
      "name": "python"
    }
  },
  "nbformat": 4,
  "nbformat_minor": 0
}